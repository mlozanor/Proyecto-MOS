{
 "cells": [
  {
   "cell_type": "code",
   "execution_count": 16,
   "id": "408b427c",
   "metadata": {},
   "outputs": [
    {
     "name": "stderr",
     "output_type": "stream",
     "text": [
      "'apt-get' is not recognized as an internal or external command,\n",
      "operable program or batch file.\n"
     ]
    },
    {
     "name": "stdout",
     "output_type": "stream",
     "text": [
      "Requirement already satisfied: pyomo in c:\\users\\marianalozano\\appdata\\local\\packages\\pythonsoftwarefoundation.python.3.11_qbz5n2kfra8p0\\localcache\\local-packages\\python311\\site-packages (6.9.2)\n",
      "Requirement already satisfied: ply in c:\\users\\marianalozano\\appdata\\local\\packages\\pythonsoftwarefoundation.python.3.11_qbz5n2kfra8p0\\localcache\\local-packages\\python311\\site-packages (from pyomo) (3.11)\n"
     ]
    },
    {
     "name": "stderr",
     "output_type": "stream",
     "text": [
      "\n",
      "[notice] A new release of pip is available: 24.0 -> 25.0.1\n",
      "[notice] To update, run: C:\\Users\\MarianaLozano\\AppData\\Local\\Microsoft\\WindowsApps\\PythonSoftwareFoundation.Python.3.11_qbz5n2kfra8p0\\python.exe -m pip install --upgrade pip\n"
     ]
    }
   ],
   "source": [
    "!apt-get install -y coinor-cbc\n",
    "!pip install pyomo\n"
   ]
  },
  {
   "cell_type": "code",
   "execution_count": 17,
   "id": "8ac179dd",
   "metadata": {},
   "outputs": [
    {
     "name": "stderr",
     "output_type": "stream",
     "text": [
      "<>:6: SyntaxWarning: invalid escape sequence '\\V'\n",
      "<>:7: SyntaxWarning: invalid escape sequence '\\s'\n",
      "<>:8: SyntaxWarning: invalid escape sequence '\\d'\n",
      "<>:9: SyntaxWarning: invalid escape sequence '\\c'\n",
      "<>:6: SyntaxWarning: invalid escape sequence '\\V'\n",
      "<>:7: SyntaxWarning: invalid escape sequence '\\s'\n",
      "<>:8: SyntaxWarning: invalid escape sequence '\\d'\n",
      "<>:9: SyntaxWarning: invalid escape sequence '\\c'\n",
      "C:\\Users\\MarianaLozano\\AppData\\Local\\Temp\\ipykernel_31996\\2839009681.py:6: SyntaxWarning: invalid escape sequence '\\V'\n",
      "  vehicles = pd.read_csv(\"Datos\\Vehicles.csv\")\n",
      "C:\\Users\\MarianaLozano\\AppData\\Local\\Temp\\ipykernel_31996\\2839009681.py:7: SyntaxWarning: invalid escape sequence '\\s'\n",
      "  stations = pd.read_csv(\"Datos\\stations.csv\")  # No se usa en Caso 1\n",
      "C:\\Users\\MarianaLozano\\AppData\\Local\\Temp\\ipykernel_31996\\2839009681.py:8: SyntaxWarning: invalid escape sequence '\\d'\n",
      "  depots = pd.read_csv(\"Datos\\depots.csv\")\n",
      "C:\\Users\\MarianaLozano\\AppData\\Local\\Temp\\ipykernel_31996\\2839009681.py:9: SyntaxWarning: invalid escape sequence '\\c'\n",
      "  clients = pd.read_csv(\"Datos\\clients.csv\")\n"
     ]
    }
   ],
   "source": [
    "import pandas as pd\n",
    "import pyomo.environ as pyo\n",
    "from itertools import product\n",
    "\n",
    "# Cargar archivos\n",
    "vehicles = pd.read_csv(\"Datos\\Vehicles.csv\")\n",
    "stations = pd.read_csv(\"Datos\\stations.csv\")  # No se usa en Caso 1\n",
    "depots = pd.read_csv(\"Datos\\depots.csv\")\n",
    "clients = pd.read_csv(\"Datos\\clients.csv\")\n",
    "\n",
    "# Conjuntos\n",
    "V = list(vehicles[\"VehicleID\"].astype(str))\n",
    "E = list(stations[\"EstationID\"].astype(str))\n",
    "P = list(depots[\"DepotID\"].astype(str))\n",
    "D = list(clients[\"LocationID\"].astype(str))\n",
    "N = P + D + E\n",
    "A = [(i, j) for i in N for j in N if i != j]\n",
    "\n",
    "# Parámetros\n",
    "M_v = dict(zip(V, vehicles[\"Capacity\"]))\n",
    "A_v = dict(zip(V, vehicles[\"Range\"]))\n",
    "R_v = {v: 4 for v in V}\n",
    "L_j = {j: 99999 for j in D}  # Asignar límites por defecto\n",
    "demand = dict(zip(clients[\"LocationID\"].astype(str), clients[\"Demand\"]))\n",
    "P_s = dict(zip(stations[\"EstationID\"].astype(str), stations[\"FuelCost\"]))\n",
    "\n",
    "# Costos\n",
    "dist = {(i, j): 1 for (i, j) in A}\n",
    "C_ij = {(i, j): 1000 for (i, j) in A}\n",
    "T_ij = {(i, j): 2000 for (i, j) in A}\n",
    "T2_ij = {(i, j): 50 for (i, j) in A}\n",
    "F_t = 5000\n",
    "C_m = 700\n",
    "E_v = {v: 10 for v in V}\n"
   ]
  },
  {
   "cell_type": "code",
   "execution_count": 18,
   "id": "6899d005",
   "metadata": {},
   "outputs": [],
   "source": [
    "model = pyo.ConcreteModel()\n",
    "model.N = pyo.Set(initialize=N)\n",
    "model.V = pyo.Set(initialize=V)\n",
    "model.A = pyo.Set(dimen=2, initialize=A)\n",
    "model.E = pyo.Set(initialize=E)\n",
    "model.D = pyo.Set(initialize=D)\n",
    "\n",
    "model.x = pyo.Var(model.A, model.V, domain=pyo.Binary)\n",
    "model.q = pyo.Var(model.A, model.V, domain=pyo.NonNegativeReals)\n",
    "model.z = pyo.Var(model.A, model.V, domain=pyo.NonNegativeReals)\n",
    "model.y = pyo.Var(model.E, model.V, domain=pyo.Binary)\n",
    "model.r = pyo.Var(model.E, model.V, domain=pyo.NonNegativeReals)\n",
    "model.f = pyo.Var(model.A, model.V, domain=pyo.NonNegativeReals)\n",
    "model.comb = pyo.Var(model.N, model.V, domain=pyo.NonNegativeReals)\n",
    "model.u = pyo.Var(model.D, model.V, domain=pyo.NonNegativeReals)\n",
    "\n",
    "# Inicialización de combustible\n",
    "for v in V:\n",
    "    for p in P:\n",
    "        model.comb[p, v].fix(A_v[v])\n",
    "    for n in N:\n",
    "        if n not in P:\n",
    "            model.comb[n, v].setlb(0)\n",
    "\n",
    "model.z_restr = pyo.ConstraintList()\n",
    "for (i, j) in A:\n",
    "    for v in V:\n",
    "        model.z_restr.add(model.z[i, j, v] <= model.q[i, j, v])\n",
    "        model.z_restr.add(model.z[i, j, v] <= M_v[v] * model.x[i, j, v])\n",
    "        model.z_restr.add(model.z[i, j, v] >= model.q[i, j, v] - M_v[v] * (1 - model.x[i, j, v]))\n"
   ]
  },
  {
   "cell_type": "code",
   "execution_count": 19,
   "id": "e7238c4c",
   "metadata": {},
   "outputs": [],
   "source": [
    "model.obj = pyo.Objective(\n",
    "    expr=sum(\n",
    "        (C_ij[i, j] + F_t * dist[i, j] + C_m * dist[i, j] + T_ij[i, j] + E_v[v] * dist[i, j]) * model.x[i, j, v] +\n",
    "        T2_ij[i, j] * model.z[i, j, v]\n",
    "        for (i, j) in model.A for v in model.V\n",
    "    ) + sum(P_s[s] * model.r[s, v] for s in model.E for v in model.V),\n",
    "    sense=pyo.minimize\n",
    ")\n",
    "\n",
    "def flujo_conservacion(model, n, v):\n",
    "    return sum(model.x[i, n, v] for i in N if i != n) == sum(model.x[n, j, v] for j in N if j != n)\n",
    "model.flujo = pyo.Constraint(N, model.V, rule=flujo_conservacion)\n",
    "\n",
    "def restr_capacidad(model, i, j, v):\n",
    "    return model.q[i, j, v] <= M_v[v] * model.x[i, j, v]\n",
    "model.capacidad = pyo.Constraint(model.A, model.V, rule=restr_capacidad)\n",
    "\n",
    "def restr_peso(model, i, j, v):\n",
    "    if j in L_j:\n",
    "        return model.q[i, j, v] <= L_j[j]\n",
    "    return pyo.Constraint.Skip\n",
    "model.peso = pyo.Constraint(model.A, model.V, rule=restr_peso)\n",
    "\n",
    "def consumo_combustible(model, i, j, v):\n",
    "    return model.f[i, j, v] == (dist[i, j] / R_v[v]) * model.x[i, j, v]\n",
    "model.consumo = pyo.Constraint(model.A, model.V, rule=consumo_combustible)\n",
    "\n",
    "def continuidad_combustible(model, i, j, v):\n",
    "    return model.comb[j, v] == model.comb[i, v] - model.f[i, j, v] + (model.r[j, v] if j in E else 0)\n",
    "model.continuidad = pyo.Constraint(model.A, model.V, rule=continuidad_combustible)\n",
    "\n",
    "def recarga_estacion(model, s, v):\n",
    "    return model.r[s, v] <= 9999 * model.y[s, v]\n",
    "model.recarga = pyo.Constraint(model.E, model.V, rule=recarga_estacion)\n",
    "\n",
    "def subtour_eliminacion(model, i, j, v):\n",
    "    if i != j and i in D and j in D:\n",
    "        return model.u[i, v] - model.u[j, v] + len(D) * model.x[i, j, v] <= len(D) - 1\n",
    "    return pyo.Constraint.Skip\n",
    "model.subtours = pyo.Constraint(model.A, model.V, rule=subtour_eliminacion)\n",
    "\n",
    "def satisfacer_demanda(model, j):\n",
    "    return sum(model.q[i, j, v] for i in N if i != j for v in V) >= demand[j]\n",
    "model.demanda = pyo.Constraint(model.D, rule=satisfacer_demanda)\n"
   ]
  },
  {
   "cell_type": "code",
   "execution_count": 20,
   "id": "9074a396",
   "metadata": {},
   "outputs": [
    {
     "name": "stderr",
     "output_type": "stream",
     "text": [
      "<>:1: SyntaxWarning: invalid escape sequence '\\g'\n",
      "<>:1: SyntaxWarning: invalid escape sequence '\\g'\n",
      "C:\\Users\\MarianaLozano\\AppData\\Local\\Temp\\ipykernel_31996\\1272832471.py:1: SyntaxWarning: invalid escape sequence '\\g'\n",
      "  solver = pyo.SolverFactory('glpk', executable='\\glpk-4.65\\\\w64\\\\glpsol.exe')\n"
     ]
    },
    {
     "name": "stdout",
     "output_type": "stream",
     "text": [
      "GLPSOL: GLPK LP/MIP Solver, v4.65\n",
      "Parameter(s) specified in the command line:\n",
      " --write C:\\Users\\MARIAN~1\\AppData\\Local\\Temp\\tmprjyrko85.glpk.raw --wglp\n",
      " C:\\Users\\MARIAN~1\\AppData\\Local\\Temp\\tmpzq05bab3.glpk.glp --cpxlp C:\\Users\\MARIAN~1\\AppData\\Local\\Temp\\tmp60zyu4jq.pyomo.lp\n",
      "Reading problem data from 'C:\\Users\\MARIAN~1\\AppData\\Local\\Temp\\tmp60zyu4jq.pyomo.lp'...\n",
      "C:\\Users\\MARIAN~1\\AppData\\Local\\Temp\\tmp60zyu4jq.pyomo.lp:91397: warning: lower bound of variable 'x2' redefined\n",
      "C:\\Users\\MARIAN~1\\AppData\\Local\\Temp\\tmp60zyu4jq.pyomo.lp:91397: warning: upper bound of variable 'x2' redefined\n",
      "15359 rows, 4460 columns, 38690 non-zeros\n",
      "1110 integer variables, all of which are binary\n",
      "92507 lines were read\n",
      "Writing problem data to 'C:\\Users\\MARIAN~1\\AppData\\Local\\Temp\\tmpzq05bab3.glpk.glp'...\n",
      "77346 lines were written\n",
      "GLPK Integer Optimizer, v4.65\n",
      "15359 rows, 4460 columns, 38690 non-zeros\n",
      "1110 integer variables, all of which are binary\n",
      "Preprocessing...\n",
      "60 constraint coefficient(s) were reduced\n",
      "14379 rows, 4460 columns, 37710 non-zeros\n",
      "1110 integer variables, all of which are binary\n",
      "Scaling...\n",
      " A: min|aij| =  2.500e-01  max|aij| =  8.000e+01  ratio =  3.200e+02\n",
      "GM: min|aij| =  6.242e-01  max|aij| =  1.602e+00  ratio =  2.567e+00\n",
      "EQ: min|aij| =  4.025e-01  max|aij| =  1.000e+00  ratio =  2.485e+00\n",
      "2N: min|aij| =  2.500e-01  max|aij| =  1.563e+00  ratio =  6.250e+00\n",
      "Constructing initial basis...\n",
      "Size of triangular part is 14309\n",
      "Solving LP relaxation...\n",
      "GLPK Simplex Optimizer, v4.65\n",
      "14379 rows, 4460 columns, 37710 non-zeros\n",
      "      0: obj =   1.256650000e+06 inf =   5.956e+03 (1014)\n",
      "    107: obj =   1.213991406e+06 inf =   2.741e-13 (0)\n",
      "*   959: obj =   1.568641304e+04 inf =   1.431e-12 (0) 9\n",
      "OPTIMAL LP SOLUTION FOUND\n",
      "Integer optimization begins...\n",
      "Long-step dual simplex will be used\n",
      "+   959: mip =     not found yet >=              -inf        (1; 0)\n",
      "+ 10693: >>>>>   2.557300000e+05 >=   1.247400000e+05  51.2% (30; 12)\n",
      "+ 15652: mip =   2.557300000e+05 >=     tree is empty   0.0% (0; 85)\n",
      "INTEGER OPTIMAL SOLUTION FOUND\n",
      "Time used:   5.9 secs\n",
      "Memory used: 19.1 Mb (20074420 bytes)\n",
      "Writing MIP solution to 'C:\\Users\\MARIAN~1\\AppData\\Local\\Temp\\tmprjyrko85.glpk.raw'...\n",
      "19828 lines were written\n",
      "¡Solución óptima encontrada!\n",
      "Valor objetivo: 255729.99999999994\n"
     ]
    }
   ],
   "source": [
    "solver = pyo.SolverFactory('glpk', executable='\\glpk-4.65\\\\w64\\\\glpsol.exe')\n",
    "results = solver.solve(model, tee=True)\n",
    "\n",
    "if results.solver.status == pyo.SolverStatus.ok and results.solver.termination_condition == pyo.TerminationCondition.optimal:\n",
    "    print(\"¡Solución óptima encontrada!\")\n",
    "    print(\"Valor objetivo:\", pyo.value(model.obj))\n",
    "else:\n",
    "    print(\"No se encontró solución óptima.\")\n",
    "    print(\"Estado:\", results.solver.status)\n",
    "    print(\"Condición:\", results.solver.termination_condition)\n"
   ]
  }
 ],
 "metadata": {
  "kernelspec": {
   "display_name": "Python 3",
   "language": "python",
   "name": "python3"
  },
  "language_info": {
   "codemirror_mode": {
    "name": "ipython",
    "version": 3
   },
   "file_extension": ".py",
   "mimetype": "text/x-python",
   "name": "python",
   "nbconvert_exporter": "python",
   "pygments_lexer": "ipython3",
   "version": "3.13.3"
  }
 },
 "nbformat": 4,
 "nbformat_minor": 5
}
