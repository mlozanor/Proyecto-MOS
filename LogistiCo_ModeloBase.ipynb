{
 "cells": [
  {
   "cell_type": "markdown",
   "id": "22a2cec4",
   "metadata": {},
   "source": [
    "# Modelo Base en Pyomo – Caso 1: CVRP Estándar\n",
    "Este notebook implementa el modelo base de ruteo de vehículos con capacidad y autonomía para LogistiCo usando Pyomo."
   ]
  },
  {
   "cell_type": "code",
   "execution_count": 7,
   "id": "055f4dea",
   "metadata": {},
   "outputs": [
    {
     "name": "stdout",
     "output_type": "stream",
     "text": [
      "Requirement already satisfied: pandas in c:\\users\\marianalozano\\appdata\\local\\packages\\pythonsoftwarefoundation.python.3.11_qbz5n2kfra8p0\\localcache\\local-packages\\python311\\site-packages (2.2.3)\n",
      "Requirement already satisfied: numpy>=1.23.2 in c:\\users\\marianalozano\\appdata\\local\\packages\\pythonsoftwarefoundation.python.3.11_qbz5n2kfra8p0\\localcache\\local-packages\\python311\\site-packages (from pandas) (2.2.4)\n",
      "Requirement already satisfied: python-dateutil>=2.8.2 in c:\\users\\marianalozano\\appdata\\local\\packages\\pythonsoftwarefoundation.python.3.11_qbz5n2kfra8p0\\localcache\\local-packages\\python311\\site-packages (from pandas) (2.9.0.post0)\n",
      "Requirement already satisfied: pytz>=2020.1 in c:\\users\\marianalozano\\appdata\\local\\packages\\pythonsoftwarefoundation.python.3.11_qbz5n2kfra8p0\\localcache\\local-packages\\python311\\site-packages (from pandas) (2025.2)\n",
      "Requirement already satisfied: tzdata>=2022.7 in c:\\users\\marianalozano\\appdata\\local\\packages\\pythonsoftwarefoundation.python.3.11_qbz5n2kfra8p0\\localcache\\local-packages\\python311\\site-packages (from pandas) (2025.2)\n",
      "Requirement already satisfied: six>=1.5 in c:\\users\\marianalozano\\appdata\\local\\packages\\pythonsoftwarefoundation.python.3.11_qbz5n2kfra8p0\\localcache\\local-packages\\python311\\site-packages (from python-dateutil>=2.8.2->pandas) (1.17.0)\n"
     ]
    },
    {
     "name": "stderr",
     "output_type": "stream",
     "text": [
      "\n",
      "[notice] A new release of pip is available: 24.0 -> 25.0.1\n",
      "[notice] To update, run: C:\\Users\\MarianaLozano\\AppData\\Local\\Microsoft\\WindowsApps\\PythonSoftwareFoundation.Python.3.11_qbz5n2kfra8p0\\python.exe -m pip install --upgrade pip\n"
     ]
    },
    {
     "name": "stdout",
     "output_type": "stream",
     "text": [
      "Requirement already satisfied: matplotlib in c:\\users\\marianalozano\\appdata\\local\\packages\\pythonsoftwarefoundation.python.3.11_qbz5n2kfra8p0\\localcache\\local-packages\\python311\\site-packages (3.10.1)\n",
      "Requirement already satisfied: contourpy>=1.0.1 in c:\\users\\marianalozano\\appdata\\local\\packages\\pythonsoftwarefoundation.python.3.11_qbz5n2kfra8p0\\localcache\\local-packages\\python311\\site-packages (from matplotlib) (1.3.2)\n",
      "Requirement already satisfied: cycler>=0.10 in c:\\users\\marianalozano\\appdata\\local\\packages\\pythonsoftwarefoundation.python.3.11_qbz5n2kfra8p0\\localcache\\local-packages\\python311\\site-packages (from matplotlib) (0.12.1)\n",
      "Requirement already satisfied: fonttools>=4.22.0 in c:\\users\\marianalozano\\appdata\\local\\packages\\pythonsoftwarefoundation.python.3.11_qbz5n2kfra8p0\\localcache\\local-packages\\python311\\site-packages (from matplotlib) (4.57.0)\n",
      "Requirement already satisfied: kiwisolver>=1.3.1 in c:\\users\\marianalozano\\appdata\\local\\packages\\pythonsoftwarefoundation.python.3.11_qbz5n2kfra8p0\\localcache\\local-packages\\python311\\site-packages (from matplotlib) (1.4.8)\n",
      "Requirement already satisfied: numpy>=1.23 in c:\\users\\marianalozano\\appdata\\local\\packages\\pythonsoftwarefoundation.python.3.11_qbz5n2kfra8p0\\localcache\\local-packages\\python311\\site-packages (from matplotlib) (2.2.4)\n",
      "Requirement already satisfied: packaging>=20.0 in c:\\users\\marianalozano\\appdata\\local\\packages\\pythonsoftwarefoundation.python.3.11_qbz5n2kfra8p0\\localcache\\local-packages\\python311\\site-packages (from matplotlib) (25.0)\n",
      "Requirement already satisfied: pillow>=8 in c:\\users\\marianalozano\\appdata\\local\\packages\\pythonsoftwarefoundation.python.3.11_qbz5n2kfra8p0\\localcache\\local-packages\\python311\\site-packages (from matplotlib) (11.2.1)\n",
      "Requirement already satisfied: pyparsing>=2.3.1 in c:\\users\\marianalozano\\appdata\\local\\packages\\pythonsoftwarefoundation.python.3.11_qbz5n2kfra8p0\\localcache\\local-packages\\python311\\site-packages (from matplotlib) (3.2.3)\n",
      "Requirement already satisfied: python-dateutil>=2.7 in c:\\users\\marianalozano\\appdata\\local\\packages\\pythonsoftwarefoundation.python.3.11_qbz5n2kfra8p0\\localcache\\local-packages\\python311\\site-packages (from matplotlib) (2.9.0.post0)\n",
      "Requirement already satisfied: six>=1.5 in c:\\users\\marianalozano\\appdata\\local\\packages\\pythonsoftwarefoundation.python.3.11_qbz5n2kfra8p0\\localcache\\local-packages\\python311\\site-packages (from python-dateutil>=2.7->matplotlib) (1.17.0)\n"
     ]
    },
    {
     "name": "stderr",
     "output_type": "stream",
     "text": [
      "\n",
      "[notice] A new release of pip is available: 24.0 -> 25.0.1\n",
      "[notice] To update, run: C:\\Users\\MarianaLozano\\AppData\\Local\\Microsoft\\WindowsApps\\PythonSoftwareFoundation.Python.3.11_qbz5n2kfra8p0\\python.exe -m pip install --upgrade pip\n"
     ]
    },
    {
     "name": "stdout",
     "output_type": "stream",
     "text": [
      "Requirement already satisfied: seaborn in c:\\users\\marianalozano\\appdata\\local\\packages\\pythonsoftwarefoundation.python.3.11_qbz5n2kfra8p0\\localcache\\local-packages\\python311\\site-packages (0.13.2)\n",
      "Requirement already satisfied: numpy!=1.24.0,>=1.20 in c:\\users\\marianalozano\\appdata\\local\\packages\\pythonsoftwarefoundation.python.3.11_qbz5n2kfra8p0\\localcache\\local-packages\\python311\\site-packages (from seaborn) (2.2.4)\n",
      "Requirement already satisfied: pandas>=1.2 in c:\\users\\marianalozano\\appdata\\local\\packages\\pythonsoftwarefoundation.python.3.11_qbz5n2kfra8p0\\localcache\\local-packages\\python311\\site-packages (from seaborn) (2.2.3)\n",
      "Requirement already satisfied: matplotlib!=3.6.1,>=3.4 in c:\\users\\marianalozano\\appdata\\local\\packages\\pythonsoftwarefoundation.python.3.11_qbz5n2kfra8p0\\localcache\\local-packages\\python311\\site-packages (from seaborn) (3.10.1)\n",
      "Requirement already satisfied: contourpy>=1.0.1 in c:\\users\\marianalozano\\appdata\\local\\packages\\pythonsoftwarefoundation.python.3.11_qbz5n2kfra8p0\\localcache\\local-packages\\python311\\site-packages (from matplotlib!=3.6.1,>=3.4->seaborn) (1.3.2)\n",
      "Requirement already satisfied: cycler>=0.10 in c:\\users\\marianalozano\\appdata\\local\\packages\\pythonsoftwarefoundation.python.3.11_qbz5n2kfra8p0\\localcache\\local-packages\\python311\\site-packages (from matplotlib!=3.6.1,>=3.4->seaborn) (0.12.1)\n",
      "Requirement already satisfied: fonttools>=4.22.0 in c:\\users\\marianalozano\\appdata\\local\\packages\\pythonsoftwarefoundation.python.3.11_qbz5n2kfra8p0\\localcache\\local-packages\\python311\\site-packages (from matplotlib!=3.6.1,>=3.4->seaborn) (4.57.0)\n",
      "Requirement already satisfied: kiwisolver>=1.3.1 in c:\\users\\marianalozano\\appdata\\local\\packages\\pythonsoftwarefoundation.python.3.11_qbz5n2kfra8p0\\localcache\\local-packages\\python311\\site-packages (from matplotlib!=3.6.1,>=3.4->seaborn) (1.4.8)\n",
      "Requirement already satisfied: packaging>=20.0 in c:\\users\\marianalozano\\appdata\\local\\packages\\pythonsoftwarefoundation.python.3.11_qbz5n2kfra8p0\\localcache\\local-packages\\python311\\site-packages (from matplotlib!=3.6.1,>=3.4->seaborn) (25.0)\n",
      "Requirement already satisfied: pillow>=8 in c:\\users\\marianalozano\\appdata\\local\\packages\\pythonsoftwarefoundation.python.3.11_qbz5n2kfra8p0\\localcache\\local-packages\\python311\\site-packages (from matplotlib!=3.6.1,>=3.4->seaborn) (11.2.1)\n",
      "Requirement already satisfied: pyparsing>=2.3.1 in c:\\users\\marianalozano\\appdata\\local\\packages\\pythonsoftwarefoundation.python.3.11_qbz5n2kfra8p0\\localcache\\local-packages\\python311\\site-packages (from matplotlib!=3.6.1,>=3.4->seaborn) (3.2.3)\n",
      "Requirement already satisfied: python-dateutil>=2.7 in c:\\users\\marianalozano\\appdata\\local\\packages\\pythonsoftwarefoundation.python.3.11_qbz5n2kfra8p0\\localcache\\local-packages\\python311\\site-packages (from matplotlib!=3.6.1,>=3.4->seaborn) (2.9.0.post0)\n",
      "Requirement already satisfied: pytz>=2020.1 in c:\\users\\marianalozano\\appdata\\local\\packages\\pythonsoftwarefoundation.python.3.11_qbz5n2kfra8p0\\localcache\\local-packages\\python311\\site-packages (from pandas>=1.2->seaborn) (2025.2)\n",
      "Requirement already satisfied: tzdata>=2022.7 in c:\\users\\marianalozano\\appdata\\local\\packages\\pythonsoftwarefoundation.python.3.11_qbz5n2kfra8p0\\localcache\\local-packages\\python311\\site-packages (from pandas>=1.2->seaborn) (2025.2)\n",
      "Requirement already satisfied: six>=1.5 in c:\\users\\marianalozano\\appdata\\local\\packages\\pythonsoftwarefoundation.python.3.11_qbz5n2kfra8p0\\localcache\\local-packages\\python311\\site-packages (from python-dateutil>=2.7->matplotlib!=3.6.1,>=3.4->seaborn) (1.17.0)\n"
     ]
    },
    {
     "name": "stderr",
     "output_type": "stream",
     "text": [
      "\n",
      "[notice] A new release of pip is available: 24.0 -> 25.0.1\n",
      "[notice] To update, run: C:\\Users\\MarianaLozano\\AppData\\Local\\Microsoft\\WindowsApps\\PythonSoftwareFoundation.Python.3.11_qbz5n2kfra8p0\\python.exe -m pip install --upgrade pip\n"
     ]
    }
   ],
   "source": [
    "!pip install pandas\n",
    "!pip install matplotlib\n",
    "!pip install seaborn\n"
   ]
  },
  {
   "cell_type": "code",
   "execution_count": 8,
   "id": "f45c5e4c",
   "metadata": {},
   "outputs": [
    {
     "name": "stdout",
     "output_type": "stream",
     "text": [
      "Requirement already satisfied: pyomo[solvers] in c:\\users\\marianalozano\\appdata\\local\\packages\\pythonsoftwarefoundation.python.3.11_qbz5n2kfra8p0\\localcache\\local-packages\\python311\\site-packages (6.9.2)\n",
      "Requirement already satisfied: ply in c:\\users\\marianalozano\\appdata\\local\\packages\\pythonsoftwarefoundation.python.3.11_qbz5n2kfra8p0\\localcache\\local-packages\\python311\\site-packages (from pyomo[solvers]) (3.11)\n"
     ]
    },
    {
     "name": "stderr",
     "output_type": "stream",
     "text": [
      "WARNING: pyomo 6.9.2 does not provide the extra 'solvers'\n",
      "\n",
      "[notice] A new release of pip is available: 24.0 -> 25.0.1\n",
      "[notice] To update, run: C:\\Users\\MarianaLozano\\AppData\\Local\\Microsoft\\WindowsApps\\PythonSoftwareFoundation.Python.3.11_qbz5n2kfra8p0\\python.exe -m pip install --upgrade pip\n"
     ]
    }
   ],
   "source": [
    "!pip install pyomo[solvers]"
   ]
  },
  {
   "cell_type": "code",
   "execution_count": 9,
   "id": "25981223",
   "metadata": {},
   "outputs": [
    {
     "name": "stdout",
     "output_type": "stream",
     "text": [
      "Requirement already satisfied: pyomo in c:\\users\\marianalozano\\appdata\\local\\programs\\python\\python313\\lib\\site-packages (6.9.2)\n",
      "Requirement already satisfied: ply in c:\\users\\marianalozano\\appdata\\local\\programs\\python\\python313\\lib\\site-packages (from pyomo) (3.11)\n",
      "Note: you may need to restart the kernel to use updated packages.\n"
     ]
    }
   ],
   "source": [
    "%pip install pyomo"
   ]
  },
  {
   "cell_type": "code",
   "execution_count": 10,
   "id": "573d47fd",
   "metadata": {},
   "outputs": [
    {
     "name": "stderr",
     "output_type": "stream",
     "text": [
      "'apt-get' is not recognized as an internal or external command,\n",
      "operable program or batch file.\n"
     ]
    }
   ],
   "source": [
    "!apt-get install -y glpk-utils"
   ]
  },
  {
   "cell_type": "code",
   "execution_count": null,
   "id": "b5fcbc9b",
   "metadata": {},
   "outputs": [],
   "source": [
    "import pandas as pd\n",
    "import pyomo.environ as pyo\n",
    "from pyomo.opt import SolverFactory\n",
    "solver = SolverFactory('glpk')"
   ]
  },
  {
   "cell_type": "markdown",
   "id": "ab3fe02d",
   "metadata": {},
   "source": [
    "## 1. Cargar Datos"
   ]
  },
  {
   "cell_type": "code",
   "execution_count": 13,
   "id": "a965c230",
   "metadata": {},
   "outputs": [
    {
     "name": "stderr",
     "output_type": "stream",
     "text": [
      "<>:2: SyntaxWarning: invalid escape sequence '\\V'\n",
      "<>:3: SyntaxWarning: invalid escape sequence '\\s'\n",
      "<>:4: SyntaxWarning: invalid escape sequence '\\d'\n",
      "<>:5: SyntaxWarning: invalid escape sequence '\\c'\n",
      "<>:2: SyntaxWarning: invalid escape sequence '\\V'\n",
      "<>:3: SyntaxWarning: invalid escape sequence '\\s'\n",
      "<>:4: SyntaxWarning: invalid escape sequence '\\d'\n",
      "<>:5: SyntaxWarning: invalid escape sequence '\\c'\n",
      "C:\\Users\\MarianaLozano\\AppData\\Local\\Temp\\ipykernel_17384\\2429352502.py:2: SyntaxWarning: invalid escape sequence '\\V'\n",
      "  vehicles = pd.read_csv(\"Datos\\Vehicles.csv\")\n",
      "C:\\Users\\MarianaLozano\\AppData\\Local\\Temp\\ipykernel_17384\\2429352502.py:3: SyntaxWarning: invalid escape sequence '\\s'\n",
      "  stations = pd.read_csv(\"Datos\\stations.csv\")  # No se usa en Caso 1\n",
      "C:\\Users\\MarianaLozano\\AppData\\Local\\Temp\\ipykernel_17384\\2429352502.py:4: SyntaxWarning: invalid escape sequence '\\d'\n",
      "  depots = pd.read_csv(\"Datos\\depots.csv\")\n",
      "C:\\Users\\MarianaLozano\\AppData\\Local\\Temp\\ipykernel_17384\\2429352502.py:5: SyntaxWarning: invalid escape sequence '\\c'\n",
      "  clients = pd.read_csv(\"Datos\\clients.csv\")\n"
     ]
    },
    {
     "data": {
      "text/html": [
       "<div>\n",
       "<style scoped>\n",
       "    .dataframe tbody tr th:only-of-type {\n",
       "        vertical-align: middle;\n",
       "    }\n",
       "\n",
       "    .dataframe tbody tr th {\n",
       "        vertical-align: top;\n",
       "    }\n",
       "\n",
       "    .dataframe thead th {\n",
       "        text-align: right;\n",
       "    }\n",
       "</style>\n",
       "<table border=\"1\" class=\"dataframe\">\n",
       "  <thead>\n",
       "    <tr style=\"text-align: right;\">\n",
       "      <th></th>\n",
       "      <th>VehicleID</th>\n",
       "      <th>Type</th>\n",
       "      <th>Capacity</th>\n",
       "      <th>Range</th>\n",
       "    </tr>\n",
       "  </thead>\n",
       "  <tbody>\n",
       "    <tr>\n",
       "      <th>0</th>\n",
       "      <td>1</td>\n",
       "      <td>Large Truck</td>\n",
       "      <td>80.0</td>\n",
       "      <td>1720</td>\n",
       "    </tr>\n",
       "    <tr>\n",
       "      <th>1</th>\n",
       "      <td>2</td>\n",
       "      <td>Medium Truck</td>\n",
       "      <td>60.0</td>\n",
       "      <td>1510</td>\n",
       "    </tr>\n",
       "    <tr>\n",
       "      <th>2</th>\n",
       "      <td>3</td>\n",
       "      <td>Medium Truck</td>\n",
       "      <td>50.0</td>\n",
       "      <td>1300</td>\n",
       "    </tr>\n",
       "    <tr>\n",
       "      <th>3</th>\n",
       "      <td>4</td>\n",
       "      <td>Small Truck</td>\n",
       "      <td>40.0</td>\n",
       "      <td>1100</td>\n",
       "    </tr>\n",
       "    <tr>\n",
       "      <th>4</th>\n",
       "      <td>5</td>\n",
       "      <td>Small Truck</td>\n",
       "      <td>30.0</td>\n",
       "      <td>870</td>\n",
       "    </tr>\n",
       "  </tbody>\n",
       "</table>\n",
       "</div>"
      ],
      "text/plain": [
       "   VehicleID          Type  Capacity  Range\n",
       "0          1   Large Truck      80.0   1720\n",
       "1          2  Medium Truck      60.0   1510\n",
       "2          3  Medium Truck      50.0   1300\n",
       "3          4   Small Truck      40.0   1100\n",
       "4          5   Small Truck      30.0    870"
      ]
     },
     "metadata": {},
     "output_type": "display_data"
    },
    {
     "data": {
      "text/html": [
       "<div>\n",
       "<style scoped>\n",
       "    .dataframe tbody tr th:only-of-type {\n",
       "        vertical-align: middle;\n",
       "    }\n",
       "\n",
       "    .dataframe tbody tr th {\n",
       "        vertical-align: top;\n",
       "    }\n",
       "\n",
       "    .dataframe thead th {\n",
       "        text-align: right;\n",
       "    }\n",
       "</style>\n",
       "<table border=\"1\" class=\"dataframe\">\n",
       "  <thead>\n",
       "    <tr style=\"text-align: right;\">\n",
       "      <th></th>\n",
       "      <th>DepotID</th>\n",
       "      <th>Latitude</th>\n",
       "      <th>Longitude</th>\n",
       "      <th>Updated</th>\n",
       "    </tr>\n",
       "  </thead>\n",
       "  <tbody>\n",
       "    <tr>\n",
       "      <th>0</th>\n",
       "      <td>1</td>\n",
       "      <td>10.963889</td>\n",
       "      <td>-74.796387</td>\n",
       "      <td>Yes</td>\n",
       "    </tr>\n",
       "  </tbody>\n",
       "</table>\n",
       "</div>"
      ],
      "text/plain": [
       "   DepotID   Latitude  Longitude Updated\n",
       "0        1  10.963889 -74.796387     Yes"
      ]
     },
     "metadata": {},
     "output_type": "display_data"
    },
    {
     "data": {
      "text/html": [
       "<div>\n",
       "<style scoped>\n",
       "    .dataframe tbody tr th:only-of-type {\n",
       "        vertical-align: middle;\n",
       "    }\n",
       "\n",
       "    .dataframe tbody tr th {\n",
       "        vertical-align: top;\n",
       "    }\n",
       "\n",
       "    .dataframe thead th {\n",
       "        text-align: right;\n",
       "    }\n",
       "</style>\n",
       "<table border=\"1\" class=\"dataframe\">\n",
       "  <thead>\n",
       "    <tr style=\"text-align: right;\">\n",
       "      <th></th>\n",
       "      <th>ClientID</th>\n",
       "      <th>City/Municipality</th>\n",
       "      <th>Demand</th>\n",
       "      <th>LocationID</th>\n",
       "    </tr>\n",
       "  </thead>\n",
       "  <tbody>\n",
       "    <tr>\n",
       "      <th>0</th>\n",
       "      <td>1</td>\n",
       "      <td>Bogotá</td>\n",
       "      <td>30.0</td>\n",
       "      <td>2</td>\n",
       "    </tr>\n",
       "    <tr>\n",
       "      <th>1</th>\n",
       "      <td>2</td>\n",
       "      <td>Medellín</td>\n",
       "      <td>25.0</td>\n",
       "      <td>3</td>\n",
       "    </tr>\n",
       "    <tr>\n",
       "      <th>2</th>\n",
       "      <td>3</td>\n",
       "      <td>Cali</td>\n",
       "      <td>22.0</td>\n",
       "      <td>4</td>\n",
       "    </tr>\n",
       "    <tr>\n",
       "      <th>3</th>\n",
       "      <td>4</td>\n",
       "      <td>Cartagena</td>\n",
       "      <td>18.0</td>\n",
       "      <td>5</td>\n",
       "    </tr>\n",
       "    <tr>\n",
       "      <th>4</th>\n",
       "      <td>5</td>\n",
       "      <td>Cúcuta</td>\n",
       "      <td>15.0</td>\n",
       "      <td>6</td>\n",
       "    </tr>\n",
       "    <tr>\n",
       "      <th>5</th>\n",
       "      <td>6</td>\n",
       "      <td>Bucaramanga</td>\n",
       "      <td>17.0</td>\n",
       "      <td>7</td>\n",
       "    </tr>\n",
       "    <tr>\n",
       "      <th>6</th>\n",
       "      <td>7</td>\n",
       "      <td>Pereira</td>\n",
       "      <td>12.0</td>\n",
       "      <td>8</td>\n",
       "    </tr>\n",
       "    <tr>\n",
       "      <th>7</th>\n",
       "      <td>8</td>\n",
       "      <td>Santa Marta</td>\n",
       "      <td>10.0</td>\n",
       "      <td>9</td>\n",
       "    </tr>\n",
       "    <tr>\n",
       "      <th>8</th>\n",
       "      <td>9</td>\n",
       "      <td>Ibagué</td>\n",
       "      <td>11.0</td>\n",
       "      <td>10</td>\n",
       "    </tr>\n",
       "    <tr>\n",
       "      <th>9</th>\n",
       "      <td>10</td>\n",
       "      <td>Manizales</td>\n",
       "      <td>9.0</td>\n",
       "      <td>11</td>\n",
       "    </tr>\n",
       "    <tr>\n",
       "      <th>10</th>\n",
       "      <td>11</td>\n",
       "      <td>Neiva</td>\n",
       "      <td>10.0</td>\n",
       "      <td>12</td>\n",
       "    </tr>\n",
       "    <tr>\n",
       "      <th>11</th>\n",
       "      <td>12</td>\n",
       "      <td>Barranquilla</td>\n",
       "      <td>7.0</td>\n",
       "      <td>13</td>\n",
       "    </tr>\n",
       "    <tr>\n",
       "      <th>12</th>\n",
       "      <td>13</td>\n",
       "      <td>Villavicencio</td>\n",
       "      <td>8.0</td>\n",
       "      <td>14</td>\n",
       "    </tr>\n",
       "    <tr>\n",
       "      <th>13</th>\n",
       "      <td>14</td>\n",
       "      <td>Armenia</td>\n",
       "      <td>10.0</td>\n",
       "      <td>15</td>\n",
       "    </tr>\n",
       "  </tbody>\n",
       "</table>\n",
       "</div>"
      ],
      "text/plain": [
       "    ClientID City/Municipality  Demand  LocationID\n",
       "0          1            Bogotá    30.0           2\n",
       "1          2          Medellín    25.0           3\n",
       "2          3              Cali    22.0           4\n",
       "3          4         Cartagena    18.0           5\n",
       "4          5            Cúcuta    15.0           6\n",
       "5          6       Bucaramanga    17.0           7\n",
       "6          7           Pereira    12.0           8\n",
       "7          8       Santa Marta    10.0           9\n",
       "8          9            Ibagué    11.0          10\n",
       "9         10         Manizales     9.0          11\n",
       "10        11             Neiva    10.0          12\n",
       "11        12      Barranquilla     7.0          13\n",
       "12        13     Villavicencio     8.0          14\n",
       "13        14           Armenia    10.0          15"
      ]
     },
     "metadata": {},
     "output_type": "display_data"
    }
   ],
   "source": [
    "# Cargar archivos CSV\n",
    "vehicles = pd.read_csv(\"Datos\\Vehicles.csv\")\n",
    "stations = pd.read_csv(\"Datos\\stations.csv\")  # No se usa en Caso 1\n",
    "depots = pd.read_csv(\"Datos\\depots.csv\")\n",
    "clients = pd.read_csv(\"Datos\\clients.csv\")\n",
    "\n",
    "# Mostrar los datos cargados\n",
    "display(vehicles)\n",
    "display(depots)\n",
    "display(clients)\n"
   ]
  },
  {
   "cell_type": "markdown",
   "id": "ee1c3047",
   "metadata": {},
   "source": [
    "## 2. Definición de Conjuntos y Parámetros"
   ]
  },
  {
   "cell_type": "code",
   "execution_count": 14,
   "id": "0b90318b",
   "metadata": {},
   "outputs": [],
   "source": [
    "# Extraer índices\n",
    "V = list(vehicles[\"VehicleID\"])\n",
    "N = list(clients[\"LocationID\"])\n",
    "N_depot = list(depots[\"DepotID\"])  # <- esta línea corregida\n",
    "\n",
    "# Crear nodos con demandas (0 para depósitos)\n",
    "demanda = dict(zip(clients[\"LocationID\"], clients[\"Demand\"]))\n",
    "for depot_id in N_depot:\n",
    "    demanda[depot_id] = 0\n",
    "\n",
    "# Parámetros de capacidad\n",
    "capacidad = dict(zip(vehicles[\"VehicleID\"], vehicles[\"Capacity\"]))\n",
    "autonomia = dict(zip(vehicles[\"VehicleID\"], vehicles[\"Range\"]))# asumiendo como proxy\n",
    "\n",
    "# Crear una matriz de distancias artificial entre nodos (euclidiana o constante por ahora)\n",
    "from itertools import product\n",
    "distancias = {(i, j): 1 if i != j else 0 for i, j in product(demanda.keys(), repeat=2)}\n"
   ]
  },
  {
   "cell_type": "markdown",
   "id": "be9d816f",
   "metadata": {},
   "source": [
    "## 3. Definición del Modelo en Pyomo"
   ]
  },
  {
   "cell_type": "code",
   "execution_count": 15,
   "id": "980430f7",
   "metadata": {},
   "outputs": [],
   "source": [
    "model = pyo.ConcreteModel()\n",
    "\n",
    "model.N = pyo.Set(initialize=demanda.keys())\n",
    "model.V = pyo.Set(initialize=V)\n",
    "model.A = pyo.Set(initialize=distancias.keys(), dimen=2)\n",
    "\n",
    "model.x = pyo.Var(model.A, model.V, domain=pyo.Binary)\n",
    "model.q = pyo.Var(model.A, model.V, domain=pyo.NonNegativeReals)\n",
    "\n",
    "model.obj = pyo.Objective(\n",
    "    expr=sum(distancias[i, j] * model.x[i, j, v] for (i, j) in model.A for v in model.V),\n",
    "    sense=pyo.minimize\n",
    ")\n"
   ]
  },
  {
   "cell_type": "markdown",
   "id": "753de1ee",
   "metadata": {},
   "source": [
    "## 4. Restricciones del Modelo"
   ]
  },
  {
   "cell_type": "code",
   "execution_count": 16,
   "id": "f5083ccb",
   "metadata": {},
   "outputs": [],
   "source": [
    "def flujo_entrada(model, j):\n",
    "    if demanda[j] == 0:\n",
    "        return pyo.Constraint.Skip\n",
    "    return sum(model.x[i, j, v] for (i, j2) in model.A if j2 == j for v in model.V) == 1\n",
    "model.restr_entrada = pyo.Constraint(model.N, rule=flujo_entrada)\n",
    "\n",
    "def flujo_salida(model, i):\n",
    "    if demanda[i] == 0:\n",
    "        return pyo.Constraint.Skip\n",
    "    return sum(model.x[i, j, v] for (i2, j) in model.A if i2 == i for v in model.V) == 1\n",
    "model.restr_salida = pyo.Constraint(model.N, rule=flujo_salida)\n",
    "\n",
    "def capacidad_vehiculo(model, v):\n",
    "    return sum(demanda[j] * model.x[i, j, v] for (i, j) in model.A if j in demanda) <= capacidad[v]\n",
    "model.restr_capacidad = pyo.Constraint(model.V, rule=capacidad_vehiculo)\n"
   ]
  },
  {
   "cell_type": "markdown",
   "id": "ad7c0956",
   "metadata": {},
   "source": [
    "## 5. Solución y Resultados"
   ]
  },
  {
   "cell_type": "code",
   "execution_count": 18,
   "id": "f9aac036",
   "metadata": {},
   "outputs": [
    {
     "name": "stdout",
     "output_type": "stream",
     "text": [
      "Requirement already satisfied: pyomo[solvers] in c:\\users\\marianalozano\\appdata\\local\\programs\\python\\python313\\lib\\site-packages (6.9.2)\n",
      "Requirement already satisfied: ply in c:\\users\\marianalozano\\appdata\\local\\programs\\python\\python313\\lib\\site-packages (from pyomo[solvers]) (3.11)\n",
      "Note: you may need to restart the kernel to use updated packages.\n"
     ]
    },
    {
     "name": "stderr",
     "output_type": "stream",
     "text": [
      "WARNING: pyomo 6.9.2 does not provide the extra 'solvers'\n",
      "'apt-get' is not recognized as an internal or external command,\n",
      "operable program or batch file.\n"
     ]
    },
    {
     "name": "stdout",
     "output_type": "stream",
     "text": [
      "GLPSOL: GLPK LP/MIP Solver, v4.65\n",
      "Parameter(s) specified in the command line:\n",
      " --write C:\\Users\\MARIAN~1\\AppData\\Local\\Temp\\tmpp_t8hivx.glpk.raw --wglp\n",
      " C:\\Users\\MARIAN~1\\AppData\\Local\\Temp\\tmpwczd3tnk.glpk.glp --cpxlp C:\\Users\\MARIAN~1\\AppData\\Local\\Temp\\tmpgmgab9yu.pyomo.lp\n",
      "Reading problem data from 'C:\\Users\\MARIAN~1\\AppData\\Local\\Temp\\tmpgmgab9yu.pyomo.lp'...\n",
      "C:\\Users\\MARIAN~1\\AppData\\Local\\Temp\\tmpgmgab9yu.pyomo.lp:5429: warning: lower bound of variable 'x1053' redefined\n",
      "C:\\Users\\MARIAN~1\\AppData\\Local\\Temp\\tmpgmgab9yu.pyomo.lp:5429: warning: upper bound of variable 'x1053' redefined\n",
      "33 rows, 1120 columns, 3150 non-zeros\n",
      "1120 integer variables, all of which are binary\n",
      "6549 lines were read\n",
      "Writing problem data to 'C:\\Users\\MARIAN~1\\AppData\\Local\\Temp\\tmpwczd3tnk.glpk.glp'...\n",
      "5389 lines were written\n",
      "GLPK Integer Optimizer, v4.65\n",
      "33 rows, 1120 columns, 3150 non-zeros\n",
      "1120 integer variables, all of which are binary\n",
      "Preprocessing...\n",
      "33 rows, 1120 columns, 3150 non-zeros\n",
      "1120 integer variables, all of which are binary\n",
      "Scaling...\n",
      " A: min|aij| =  1.000e+00  max|aij| =  3.000e+01  ratio =  3.000e+01\n",
      "GM: min|aij| =  6.950e-01  max|aij| =  1.439e+00  ratio =  2.070e+00\n",
      "EQ: min|aij| =  4.830e-01  max|aij| =  1.000e+00  ratio =  2.070e+00\n",
      "2N: min|aij| =  2.500e-01  max|aij| =  1.563e+00  ratio =  6.250e+00\n",
      "Constructing initial basis...\n",
      "Size of triangular part is 33\n",
      "Solving LP relaxation...\n",
      "GLPK Simplex Optimizer, v4.65\n",
      "33 rows, 1120 columns, 3150 non-zeros\n",
      "      0: obj =   2.800000000e+01 inf =   1.088e+01 (1)\n",
      "     29: obj =   1.910000000e+01 inf =   0.000e+00 (0)\n",
      "*    87: obj =  -1.110223025e-16 inf =   9.992e-16 (0)\n",
      "OPTIMAL LP SOLUTION FOUND\n",
      "Integer optimization begins...\n",
      "Long-step dual simplex will be used\n",
      "+    87: mip =     not found yet >=              -inf        (1; 0)\n",
      "Solution found by heuristic: 0\n",
      "+   139: mip =   0.000000000e+00 >=     tree is empty   0.0% (0; 21)\n",
      "INTEGER OPTIMAL SOLUTION FOUND\n",
      "Time used:   0.0 secs\n",
      "Memory used: 1.1 Mb (1179994 bytes)\n",
      "Writing MIP solution to 'C:\\Users\\MARIAN~1\\AppData\\Local\\Temp\\tmpp_t8hivx.glpk.raw'...\n",
      "1162 lines were written\n",
      "Vehículo 2 viaja de 2 a 2\n",
      "Vehículo 1 viaja de 3 a 3\n",
      "Vehículo 3 viaja de 4 a 4\n",
      "Vehículo 2 viaja de 5 a 5\n",
      "Vehículo 1 viaja de 6 a 6\n",
      "Vehículo 1 viaja de 7 a 7\n",
      "Vehículo 3 viaja de 8 a 8\n",
      "Vehículo 1 viaja de 9 a 9\n",
      "Vehículo 1 viaja de 10 a 10\n",
      "Vehículo 3 viaja de 11 a 11\n",
      "Vehículo 2 viaja de 12 a 12\n",
      "Vehículo 5 viaja de 13 a 13\n",
      "Vehículo 5 viaja de 14 a 14\n",
      "Vehículo 5 viaja de 15 a 15\n"
     ]
    },
    {
     "name": "stderr",
     "output_type": "stream",
     "text": [
      "'apt-get' is not recognized as an internal or external command,\n",
      "operable program or batch file.\n"
     ]
    }
   ],
   "source": [
    "# Ensure the 'cbc' solver is installed\n",
    "%pip install pyomo[solvers]\n",
    "!apt-get install -y glpk-utils\n",
    "!apt-get install -y coinor-cbc\n",
    "\n",
    "solver = SolverFactory('glpk', executable=\"C:\\\\glpk-4.65\\\\w64\\\\glpsol.exe\")\n",
    "  # Cambiar a 'cbc' o 'gurobi' si está disponible\n",
    "results = solver.solve(model, tee=True)\n",
    "\n",
    "for (i, j) in model.A:\n",
    "    for v in model.V:\n",
    "        if model.x[i, j, v].value is not None and model.x[i, j, v].value > 0.5:\n",
    "            print(f\"Vehículo {v} viaja de {i} a {j}\")\n"
   ]
  }
 ],
 "metadata": {
  "kernelspec": {
   "display_name": "Python 3",
   "language": "python",
   "name": "python3"
  },
  "language_info": {
   "codemirror_mode": {
    "name": "ipython",
    "version": 3
   },
   "file_extension": ".py",
   "mimetype": "text/x-python",
   "name": "python",
   "nbconvert_exporter": "python",
   "pygments_lexer": "ipython3",
   "version": "3.13.3"
  }
 },
 "nbformat": 4,
 "nbformat_minor": 5
}
