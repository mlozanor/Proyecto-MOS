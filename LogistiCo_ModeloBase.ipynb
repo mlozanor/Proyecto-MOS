{
 "cells": [
  {
   "cell_type": "markdown",
   "id": "22a2cec4",
   "metadata": {},
   "source": [
    "# Proyecto C\n",
    "\n",
    "Estudiantes: \n",
    "\n",
    "1. Mariana Lozano Roncancio 202122878\n"
   ]
  },
  {
   "cell_type": "markdown",
   "id": "a160143f",
   "metadata": {},
   "source": [
    "# A. Presentaccion de modelo matematico"
   ]
  },
  {
   "cell_type": "markdown",
   "id": "01bd171f",
   "metadata": {},
   "source": [
    "A continuacion se presenta el modlo con las siguientes cambios realizados:\n",
    "\n",
    "- Adición de restricciones de continuidad y consumo de combustible.\n",
    "- Inclusión de variables auxiliares para orden y combustible restante.\n",
    "- Restricciones MTZ para evitar subtours.\n",
    "- Inclusión de la restricción de visita única a cada cliente.\n",
    "- Reorganización del modelo para mejorar su claridad y consistencia."
   ]
  },
  {
   "cell_type": "markdown",
   "id": "2a8ccd28",
   "metadata": {},
   "source": [
    "## 1. Conjuntos\n",
    "\n",
    "$$\n",
    "\\begin{align*}\n",
    "P &= \\text{Conjunto de puntos de acceso (puertos)} = \\{P_1\\} \\quad \\text{(Puerto de Barranquilla)} \\\\\n",
    "D &= \\text{Conjunto de destinos} = \\{D_1, D_2, D_3\\} \\quad \\text{(Bogotá, Guasca, Cogua)} \\\\\n",
    "E &= \\text{Conjunto de estaciones de recarga} = \\{E_1, E_2, E_3\\} \\\\\n",
    "V &= \\text{Conjunto de vehículos} = \\{V_1, V_2, V_3\\} \\\\\n",
    "N &= P \\cup D \\cup E \\quad \\text{(Conjunto de nodos)}\n",
    "\\end{align*}\n",
    "$$\n",
    "\n"
   ]
  },
  {
   "cell_type": "markdown",
   "id": "1d1720a0",
   "metadata": {},
   "source": [
    "## 2. Parametros\n",
    "\n",
    "| Parámetro | Descripción | Valor |\n",
    "|----------|-------------|-------|\n",
    "| $C_{ij}$ | Costo entre nodos $i$ y $j$ | Depende de distancia y peajes |\n",
    "| $d_{ij}$ | Distancia real entre $i$ y $j$ | Dende de las estaciones |\n",
    "| $M_v$ | Capacidad máxima del vehículo $v$ | 30, 25, 20 ton |\n",
    "| $A_v$ | Autonomía del vehículo $v$ (km) | 800, 750, 700 |\n",
    "| $P_s$ | Precio de combustible en estación $s$ | 12.000, 11.500, 12.500 |\n",
    "| $L_j$ | Límite de peso permitido en nodo $j$ | 18, 25 ton |\n",
    "| $F_t$ | Tarifa flete por km | 5.000 |\n",
    "| $C_m$ | Costo de mantenimiento por km | 700 |\n",
    "| $T_{ij}$ | Peaje base entre $i$ y $j$ | Según tramo |\n",
    "| $T2_{ij}$ | Peaje adicional por tonelada | Según tramo |\n",
    "| $E_v$ | Penalización emisiones CO₂ por km | Según vehículo |\n",
    "| $R_v$ | Rendimiento de combustible (km/gal) | Por ejemplo, 4 km/gal |"
   ]
  },
  {
   "cell_type": "markdown",
   "id": "051ec32e",
   "metadata": {},
   "source": [
    "## 3. Variables de Decisión\n",
    "\n",
    "| Variable | Descripción | Tipo |\n",
    "|---------|-------------|------|\n",
    "| $x_{ijv}$ | 1 si el vehículo $v$ viaja de $i$ a $j$, 0 de lo contrario | Binaria |\n",
    "| $y_{sv}$ | 1 si el vehículo $v$ recarga en estación $s$ | Binaria |\n",
    "| $q_{ijv}$ | Carga transportada de $i$ a $j$ por vehículo $v$ | Continua |\n",
    "| $f_{ijv}$ | Combustible consumido de $i$ a $j$ por vehículo $v$ | Continua |\n",
    "| $r_{sv}$ | Combustible recargado en estación $s$ por vehículo $v$ | Continua |\n",
    "| $u_{iv}$ | Orden de visita del nodo $i$ por vehículo $v$ | Continua auxiliar |\n",
    "| $comb_{iv}$ | Combustible restante en nodo $i$ por vehículo $v$ | Continua auxiliar |"
   ]
  },
  {
   "cell_type": "markdown",
   "id": "aa4ebea5",
   "metadata": {},
   "source": [
    "## 4. Función Objetivo\n",
    "\n",
    "$$\\min \\sum_v \\sum_i \\sum_j \\,\\left( C_{ij} x_{ijv} +F_t d_{ij} x_{ijv} +C_m d_{ij} x_{ijv} +T_{ij} x_{ijv} +T2_{ij} q_{ijv} x_{ijv} +E_v d_{ij} x_{ijv}\\right) + \\sum_v \\sum_s P_s r_{sv}$$"
   ]
  },
  {
   "cell_type": "markdown",
   "id": "db4195f7",
   "metadata": {},
   "source": [
    "## 5. Restricciones\n",
    "\n",
    "$$\n",
    "\\text{R1 (Flujo)} \\quad \\sum_j x_{ijv} = \\sum_j x_{jiv} \\quad \\forall i \\in N, \\; v \\in V\n",
    "$$\n",
    "\n",
    "$$\n",
    "\\text{R2 (Capacidad)} \\quad q_{ijv} \\leq M_v \\cdot x_{ijv} \\quad \\forall i, j \\in N, \\; v \\in V\n",
    "$$\n",
    "\n",
    "$$\n",
    "\\text{R3 (Peso)} \\quad q_{ijv} \\leq L_j \\quad \\forall i, j \\in D, \\; v \\in V\n",
    "$$\n",
    "\n",
    "$$\n",
    "\\text{R4 (Combustible)} \\quad f_{ijv} = \\frac{d_{ij}}{R_v} \\cdot x_{ijv} \\quad \\forall i, j \\in N, \\; v \\in V\n",
    "$$\n",
    "\n",
    "$$\n",
    "\\text{R5 (Continuidad)} \\quad comb_{jv} = comb_{iv} - f_{ijv} + r_{jv} \\quad \\forall i, j \\in N, \\; v \\in V\n",
    "$$\n",
    "\n",
    "$$\n",
    "\\text{R6 (Recarga)} \\quad r_{jv} \\leq M \\cdot y_{jv} \\quad \\forall j \\in E, \\; v \\in V\n",
    "$$\n",
    "\n",
    "$$\n",
    "\\text{R7 (Visita única)} \\quad \\sum_v \\sum_i x_{ijv} = 1 \\quad \\forall j \\in D\n",
    "$$\n",
    "\n",
    "$$\n",
    "\\text{R8 (Subtours)} \\quad u_{iv} - u_{jv} + |D| \\cdot x_{ijv} \\leq |D| - 1 \\quad \\forall i \\ne j \\in D, \\; v \\in V\n",
    "$$\n"
   ]
  },
  {
   "cell_type": "markdown",
   "id": "a71ef29c",
   "metadata": {},
   "source": [
    "# B. Presentacion codigo"
   ]
  },
  {
   "cell_type": "code",
   "execution_count": 3,
   "id": "055f4dea",
   "metadata": {},
   "outputs": [
    {
     "name": "stdout",
     "output_type": "stream",
     "text": [
      "Requirement already satisfied: pandas in c:\\users\\marianalozano\\appdata\\local\\packages\\pythonsoftwarefoundation.python.3.11_qbz5n2kfra8p0\\localcache\\local-packages\\python311\\site-packages (2.2.3)\n",
      "Requirement already satisfied: numpy>=1.23.2 in c:\\users\\marianalozano\\appdata\\local\\packages\\pythonsoftwarefoundation.python.3.11_qbz5n2kfra8p0\\localcache\\local-packages\\python311\\site-packages (from pandas) (2.2.4)\n",
      "Requirement already satisfied: python-dateutil>=2.8.2 in c:\\users\\marianalozano\\appdata\\local\\packages\\pythonsoftwarefoundation.python.3.11_qbz5n2kfra8p0\\localcache\\local-packages\\python311\\site-packages (from pandas) (2.9.0.post0)\n",
      "Requirement already satisfied: pytz>=2020.1 in c:\\users\\marianalozano\\appdata\\local\\packages\\pythonsoftwarefoundation.python.3.11_qbz5n2kfra8p0\\localcache\\local-packages\\python311\\site-packages (from pandas) (2025.2)\n",
      "Requirement already satisfied: tzdata>=2022.7 in c:\\users\\marianalozano\\appdata\\local\\packages\\pythonsoftwarefoundation.python.3.11_qbz5n2kfra8p0\\localcache\\local-packages\\python311\\site-packages (from pandas) (2025.2)\n",
      "Requirement already satisfied: six>=1.5 in c:\\users\\marianalozano\\appdata\\local\\packages\\pythonsoftwarefoundation.python.3.11_qbz5n2kfra8p0\\localcache\\local-packages\\python311\\site-packages (from python-dateutil>=2.8.2->pandas) (1.17.0)\n"
     ]
    },
    {
     "name": "stderr",
     "output_type": "stream",
     "text": [
      "\n",
      "[notice] A new release of pip is available: 24.0 -> 25.0.1\n",
      "[notice] To update, run: C:\\Users\\MarianaLozano\\AppData\\Local\\Microsoft\\WindowsApps\\PythonSoftwareFoundation.Python.3.11_qbz5n2kfra8p0\\python.exe -m pip install --upgrade pip\n"
     ]
    },
    {
     "name": "stdout",
     "output_type": "stream",
     "text": [
      "Requirement already satisfied: matplotlib in c:\\users\\marianalozano\\appdata\\local\\packages\\pythonsoftwarefoundation.python.3.11_qbz5n2kfra8p0\\localcache\\local-packages\\python311\\site-packages (3.10.1)\n",
      "Requirement already satisfied: contourpy>=1.0.1 in c:\\users\\marianalozano\\appdata\\local\\packages\\pythonsoftwarefoundation.python.3.11_qbz5n2kfra8p0\\localcache\\local-packages\\python311\\site-packages (from matplotlib) (1.3.2)\n",
      "Requirement already satisfied: cycler>=0.10 in c:\\users\\marianalozano\\appdata\\local\\packages\\pythonsoftwarefoundation.python.3.11_qbz5n2kfra8p0\\localcache\\local-packages\\python311\\site-packages (from matplotlib) (0.12.1)\n",
      "Requirement already satisfied: fonttools>=4.22.0 in c:\\users\\marianalozano\\appdata\\local\\packages\\pythonsoftwarefoundation.python.3.11_qbz5n2kfra8p0\\localcache\\local-packages\\python311\\site-packages (from matplotlib) (4.57.0)\n",
      "Requirement already satisfied: kiwisolver>=1.3.1 in c:\\users\\marianalozano\\appdata\\local\\packages\\pythonsoftwarefoundation.python.3.11_qbz5n2kfra8p0\\localcache\\local-packages\\python311\\site-packages (from matplotlib) (1.4.8)\n",
      "Requirement already satisfied: numpy>=1.23 in c:\\users\\marianalozano\\appdata\\local\\packages\\pythonsoftwarefoundation.python.3.11_qbz5n2kfra8p0\\localcache\\local-packages\\python311\\site-packages (from matplotlib) (2.2.4)\n",
      "Requirement already satisfied: packaging>=20.0 in c:\\users\\marianalozano\\appdata\\local\\packages\\pythonsoftwarefoundation.python.3.11_qbz5n2kfra8p0\\localcache\\local-packages\\python311\\site-packages (from matplotlib) (25.0)\n",
      "Requirement already satisfied: pillow>=8 in c:\\users\\marianalozano\\appdata\\local\\packages\\pythonsoftwarefoundation.python.3.11_qbz5n2kfra8p0\\localcache\\local-packages\\python311\\site-packages (from matplotlib) (11.2.1)\n",
      "Requirement already satisfied: pyparsing>=2.3.1 in c:\\users\\marianalozano\\appdata\\local\\packages\\pythonsoftwarefoundation.python.3.11_qbz5n2kfra8p0\\localcache\\local-packages\\python311\\site-packages (from matplotlib) (3.2.3)\n",
      "Requirement already satisfied: python-dateutil>=2.7 in c:\\users\\marianalozano\\appdata\\local\\packages\\pythonsoftwarefoundation.python.3.11_qbz5n2kfra8p0\\localcache\\local-packages\\python311\\site-packages (from matplotlib) (2.9.0.post0)\n",
      "Requirement already satisfied: six>=1.5 in c:\\users\\marianalozano\\appdata\\local\\packages\\pythonsoftwarefoundation.python.3.11_qbz5n2kfra8p0\\localcache\\local-packages\\python311\\site-packages (from python-dateutil>=2.7->matplotlib) (1.17.0)\n"
     ]
    },
    {
     "name": "stderr",
     "output_type": "stream",
     "text": [
      "\n",
      "[notice] A new release of pip is available: 24.0 -> 25.0.1\n",
      "[notice] To update, run: C:\\Users\\MarianaLozano\\AppData\\Local\\Microsoft\\WindowsApps\\PythonSoftwareFoundation.Python.3.11_qbz5n2kfra8p0\\python.exe -m pip install --upgrade pip\n"
     ]
    },
    {
     "name": "stdout",
     "output_type": "stream",
     "text": [
      "Requirement already satisfied: seaborn in c:\\users\\marianalozano\\appdata\\local\\packages\\pythonsoftwarefoundation.python.3.11_qbz5n2kfra8p0\\localcache\\local-packages\\python311\\site-packages (0.13.2)\n",
      "Requirement already satisfied: numpy!=1.24.0,>=1.20 in c:\\users\\marianalozano\\appdata\\local\\packages\\pythonsoftwarefoundation.python.3.11_qbz5n2kfra8p0\\localcache\\local-packages\\python311\\site-packages (from seaborn) (2.2.4)\n",
      "Requirement already satisfied: pandas>=1.2 in c:\\users\\marianalozano\\appdata\\local\\packages\\pythonsoftwarefoundation.python.3.11_qbz5n2kfra8p0\\localcache\\local-packages\\python311\\site-packages (from seaborn) (2.2.3)\n",
      "Requirement already satisfied: matplotlib!=3.6.1,>=3.4 in c:\\users\\marianalozano\\appdata\\local\\packages\\pythonsoftwarefoundation.python.3.11_qbz5n2kfra8p0\\localcache\\local-packages\\python311\\site-packages (from seaborn) (3.10.1)\n",
      "Requirement already satisfied: contourpy>=1.0.1 in c:\\users\\marianalozano\\appdata\\local\\packages\\pythonsoftwarefoundation.python.3.11_qbz5n2kfra8p0\\localcache\\local-packages\\python311\\site-packages (from matplotlib!=3.6.1,>=3.4->seaborn) (1.3.2)\n",
      "Requirement already satisfied: cycler>=0.10 in c:\\users\\marianalozano\\appdata\\local\\packages\\pythonsoftwarefoundation.python.3.11_qbz5n2kfra8p0\\localcache\\local-packages\\python311\\site-packages (from matplotlib!=3.6.1,>=3.4->seaborn) (0.12.1)\n",
      "Requirement already satisfied: fonttools>=4.22.0 in c:\\users\\marianalozano\\appdata\\local\\packages\\pythonsoftwarefoundation.python.3.11_qbz5n2kfra8p0\\localcache\\local-packages\\python311\\site-packages (from matplotlib!=3.6.1,>=3.4->seaborn) (4.57.0)\n",
      "Requirement already satisfied: kiwisolver>=1.3.1 in c:\\users\\marianalozano\\appdata\\local\\packages\\pythonsoftwarefoundation.python.3.11_qbz5n2kfra8p0\\localcache\\local-packages\\python311\\site-packages (from matplotlib!=3.6.1,>=3.4->seaborn) (1.4.8)\n",
      "Requirement already satisfied: packaging>=20.0 in c:\\users\\marianalozano\\appdata\\local\\packages\\pythonsoftwarefoundation.python.3.11_qbz5n2kfra8p0\\localcache\\local-packages\\python311\\site-packages (from matplotlib!=3.6.1,>=3.4->seaborn) (25.0)\n",
      "Requirement already satisfied: pillow>=8 in c:\\users\\marianalozano\\appdata\\local\\packages\\pythonsoftwarefoundation.python.3.11_qbz5n2kfra8p0\\localcache\\local-packages\\python311\\site-packages (from matplotlib!=3.6.1,>=3.4->seaborn) (11.2.1)\n",
      "Requirement already satisfied: pyparsing>=2.3.1 in c:\\users\\marianalozano\\appdata\\local\\packages\\pythonsoftwarefoundation.python.3.11_qbz5n2kfra8p0\\localcache\\local-packages\\python311\\site-packages (from matplotlib!=3.6.1,>=3.4->seaborn) (3.2.3)\n",
      "Requirement already satisfied: python-dateutil>=2.7 in c:\\users\\marianalozano\\appdata\\local\\packages\\pythonsoftwarefoundation.python.3.11_qbz5n2kfra8p0\\localcache\\local-packages\\python311\\site-packages (from matplotlib!=3.6.1,>=3.4->seaborn) (2.9.0.post0)\n",
      "Requirement already satisfied: pytz>=2020.1 in c:\\users\\marianalozano\\appdata\\local\\packages\\pythonsoftwarefoundation.python.3.11_qbz5n2kfra8p0\\localcache\\local-packages\\python311\\site-packages (from pandas>=1.2->seaborn) (2025.2)\n",
      "Requirement already satisfied: tzdata>=2022.7 in c:\\users\\marianalozano\\appdata\\local\\packages\\pythonsoftwarefoundation.python.3.11_qbz5n2kfra8p0\\localcache\\local-packages\\python311\\site-packages (from pandas>=1.2->seaborn) (2025.2)\n",
      "Requirement already satisfied: six>=1.5 in c:\\users\\marianalozano\\appdata\\local\\packages\\pythonsoftwarefoundation.python.3.11_qbz5n2kfra8p0\\localcache\\local-packages\\python311\\site-packages (from python-dateutil>=2.7->matplotlib!=3.6.1,>=3.4->seaborn) (1.17.0)\n"
     ]
    },
    {
     "name": "stderr",
     "output_type": "stream",
     "text": [
      "\n",
      "[notice] A new release of pip is available: 24.0 -> 25.0.1\n",
      "[notice] To update, run: C:\\Users\\MarianaLozano\\AppData\\Local\\Microsoft\\WindowsApps\\PythonSoftwareFoundation.Python.3.11_qbz5n2kfra8p0\\python.exe -m pip install --upgrade pip\n"
     ]
    }
   ],
   "source": [
    "!pip install pandas\n",
    "!pip install matplotlib\n",
    "!pip install seaborn\n"
   ]
  },
  {
   "cell_type": "code",
   "execution_count": 4,
   "id": "f45c5e4c",
   "metadata": {},
   "outputs": [
    {
     "name": "stdout",
     "output_type": "stream",
     "text": [
      "Requirement already satisfied: pyomo[solvers] in c:\\users\\marianalozano\\appdata\\local\\packages\\pythonsoftwarefoundation.python.3.11_qbz5n2kfra8p0\\localcache\\local-packages\\python311\\site-packages (6.9.2)\n",
      "Requirement already satisfied: ply in c:\\users\\marianalozano\\appdata\\local\\packages\\pythonsoftwarefoundation.python.3.11_qbz5n2kfra8p0\\localcache\\local-packages\\python311\\site-packages (from pyomo[solvers]) (3.11)\n"
     ]
    },
    {
     "name": "stderr",
     "output_type": "stream",
     "text": [
      "WARNING: pyomo 6.9.2 does not provide the extra 'solvers'\n",
      "\n",
      "[notice] A new release of pip is available: 24.0 -> 25.0.1\n",
      "[notice] To update, run: C:\\Users\\MarianaLozano\\AppData\\Local\\Microsoft\\WindowsApps\\PythonSoftwareFoundation.Python.3.11_qbz5n2kfra8p0\\python.exe -m pip install --upgrade pip\n"
     ]
    }
   ],
   "source": [
    "!pip install pyomo[solvers]"
   ]
  },
  {
   "cell_type": "code",
   "execution_count": 5,
   "id": "25981223",
   "metadata": {},
   "outputs": [
    {
     "name": "stdout",
     "output_type": "stream",
     "text": [
      "Requirement already satisfied: pyomo in c:\\users\\marianalozano\\appdata\\local\\programs\\python\\python313\\lib\\site-packages (6.9.2)\n",
      "Requirement already satisfied: ply in c:\\users\\marianalozano\\appdata\\local\\programs\\python\\python313\\lib\\site-packages (from pyomo) (3.11)\n",
      "Note: you may need to restart the kernel to use updated packages.\n"
     ]
    }
   ],
   "source": [
    "%pip install pyomo"
   ]
  },
  {
   "cell_type": "code",
   "execution_count": 6,
   "id": "573d47fd",
   "metadata": {},
   "outputs": [
    {
     "name": "stderr",
     "output_type": "stream",
     "text": [
      "'apt-get' is not recognized as an internal or external command,\n",
      "operable program or batch file.\n"
     ]
    }
   ],
   "source": [
    "!apt-get install -y glpk-utils"
   ]
  },
  {
   "cell_type": "code",
   "execution_count": 7,
   "id": "b5fcbc9b",
   "metadata": {},
   "outputs": [],
   "source": [
    "import pandas as pd\n",
    "import pyomo.environ as pyo\n",
    "from pyomo.environ import ConcreteModel, Objective, Constraint, Var, Binary, RangeSet, minimize, value, TerminationCondition\n",
    "solver_name = \"highs\""
   ]
  },
  {
   "cell_type": "markdown",
   "id": "ab3fe02d",
   "metadata": {},
   "source": [
    "## 1. Cargar Datos"
   ]
  },
  {
   "cell_type": "code",
   "execution_count": 8,
   "id": "a965c230",
   "metadata": {},
   "outputs": [
    {
     "name": "stderr",
     "output_type": "stream",
     "text": [
      "<>:2: SyntaxWarning: invalid escape sequence '\\V'\n",
      "<>:3: SyntaxWarning: invalid escape sequence '\\s'\n",
      "<>:4: SyntaxWarning: invalid escape sequence '\\d'\n",
      "<>:5: SyntaxWarning: invalid escape sequence '\\c'\n",
      "<>:2: SyntaxWarning: invalid escape sequence '\\V'\n",
      "<>:3: SyntaxWarning: invalid escape sequence '\\s'\n",
      "<>:4: SyntaxWarning: invalid escape sequence '\\d'\n",
      "<>:5: SyntaxWarning: invalid escape sequence '\\c'\n",
      "C:\\Users\\MarianaLozano\\AppData\\Local\\Temp\\ipykernel_3392\\2429352502.py:2: SyntaxWarning: invalid escape sequence '\\V'\n",
      "  vehicles = pd.read_csv(\"Datos\\Vehicles.csv\")\n",
      "C:\\Users\\MarianaLozano\\AppData\\Local\\Temp\\ipykernel_3392\\2429352502.py:3: SyntaxWarning: invalid escape sequence '\\s'\n",
      "  stations = pd.read_csv(\"Datos\\stations.csv\")  # No se usa en Caso 1\n",
      "C:\\Users\\MarianaLozano\\AppData\\Local\\Temp\\ipykernel_3392\\2429352502.py:4: SyntaxWarning: invalid escape sequence '\\d'\n",
      "  depots = pd.read_csv(\"Datos\\depots.csv\")\n",
      "C:\\Users\\MarianaLozano\\AppData\\Local\\Temp\\ipykernel_3392\\2429352502.py:5: SyntaxWarning: invalid escape sequence '\\c'\n",
      "  clients = pd.read_csv(\"Datos\\clients.csv\")\n"
     ]
    },
    {
     "data": {
      "text/html": [
       "<div>\n",
       "<style scoped>\n",
       "    .dataframe tbody tr th:only-of-type {\n",
       "        vertical-align: middle;\n",
       "    }\n",
       "\n",
       "    .dataframe tbody tr th {\n",
       "        vertical-align: top;\n",
       "    }\n",
       "\n",
       "    .dataframe thead th {\n",
       "        text-align: right;\n",
       "    }\n",
       "</style>\n",
       "<table border=\"1\" class=\"dataframe\">\n",
       "  <thead>\n",
       "    <tr style=\"text-align: right;\">\n",
       "      <th></th>\n",
       "      <th>VehicleID</th>\n",
       "      <th>Type</th>\n",
       "      <th>Capacity</th>\n",
       "      <th>Range</th>\n",
       "    </tr>\n",
       "  </thead>\n",
       "  <tbody>\n",
       "    <tr>\n",
       "      <th>0</th>\n",
       "      <td>1</td>\n",
       "      <td>Large Truck</td>\n",
       "      <td>80.0</td>\n",
       "      <td>1720</td>\n",
       "    </tr>\n",
       "    <tr>\n",
       "      <th>1</th>\n",
       "      <td>2</td>\n",
       "      <td>Medium Truck</td>\n",
       "      <td>60.0</td>\n",
       "      <td>1510</td>\n",
       "    </tr>\n",
       "    <tr>\n",
       "      <th>2</th>\n",
       "      <td>3</td>\n",
       "      <td>Medium Truck</td>\n",
       "      <td>50.0</td>\n",
       "      <td>1300</td>\n",
       "    </tr>\n",
       "    <tr>\n",
       "      <th>3</th>\n",
       "      <td>4</td>\n",
       "      <td>Small Truck</td>\n",
       "      <td>40.0</td>\n",
       "      <td>1100</td>\n",
       "    </tr>\n",
       "    <tr>\n",
       "      <th>4</th>\n",
       "      <td>5</td>\n",
       "      <td>Small Truck</td>\n",
       "      <td>30.0</td>\n",
       "      <td>870</td>\n",
       "    </tr>\n",
       "  </tbody>\n",
       "</table>\n",
       "</div>"
      ],
      "text/plain": [
       "   VehicleID          Type  Capacity  Range\n",
       "0          1   Large Truck      80.0   1720\n",
       "1          2  Medium Truck      60.0   1510\n",
       "2          3  Medium Truck      50.0   1300\n",
       "3          4   Small Truck      40.0   1100\n",
       "4          5   Small Truck      30.0    870"
      ]
     },
     "metadata": {},
     "output_type": "display_data"
    },
    {
     "data": {
      "text/html": [
       "<div>\n",
       "<style scoped>\n",
       "    .dataframe tbody tr th:only-of-type {\n",
       "        vertical-align: middle;\n",
       "    }\n",
       "\n",
       "    .dataframe tbody tr th {\n",
       "        vertical-align: top;\n",
       "    }\n",
       "\n",
       "    .dataframe thead th {\n",
       "        text-align: right;\n",
       "    }\n",
       "</style>\n",
       "<table border=\"1\" class=\"dataframe\">\n",
       "  <thead>\n",
       "    <tr style=\"text-align: right;\">\n",
       "      <th></th>\n",
       "      <th>DepotID</th>\n",
       "      <th>Latitude</th>\n",
       "      <th>Longitude</th>\n",
       "      <th>Updated</th>\n",
       "    </tr>\n",
       "  </thead>\n",
       "  <tbody>\n",
       "    <tr>\n",
       "      <th>0</th>\n",
       "      <td>1</td>\n",
       "      <td>10.963889</td>\n",
       "      <td>-74.796387</td>\n",
       "      <td>Yes</td>\n",
       "    </tr>\n",
       "  </tbody>\n",
       "</table>\n",
       "</div>"
      ],
      "text/plain": [
       "   DepotID   Latitude  Longitude Updated\n",
       "0        1  10.963889 -74.796387     Yes"
      ]
     },
     "metadata": {},
     "output_type": "display_data"
    },
    {
     "data": {
      "text/html": [
       "<div>\n",
       "<style scoped>\n",
       "    .dataframe tbody tr th:only-of-type {\n",
       "        vertical-align: middle;\n",
       "    }\n",
       "\n",
       "    .dataframe tbody tr th {\n",
       "        vertical-align: top;\n",
       "    }\n",
       "\n",
       "    .dataframe thead th {\n",
       "        text-align: right;\n",
       "    }\n",
       "</style>\n",
       "<table border=\"1\" class=\"dataframe\">\n",
       "  <thead>\n",
       "    <tr style=\"text-align: right;\">\n",
       "      <th></th>\n",
       "      <th>ClientID</th>\n",
       "      <th>City/Municipality</th>\n",
       "      <th>Demand</th>\n",
       "      <th>LocationID</th>\n",
       "    </tr>\n",
       "  </thead>\n",
       "  <tbody>\n",
       "    <tr>\n",
       "      <th>0</th>\n",
       "      <td>1</td>\n",
       "      <td>Bogotá</td>\n",
       "      <td>30.0</td>\n",
       "      <td>2</td>\n",
       "    </tr>\n",
       "    <tr>\n",
       "      <th>1</th>\n",
       "      <td>2</td>\n",
       "      <td>Medellín</td>\n",
       "      <td>25.0</td>\n",
       "      <td>3</td>\n",
       "    </tr>\n",
       "    <tr>\n",
       "      <th>2</th>\n",
       "      <td>3</td>\n",
       "      <td>Cali</td>\n",
       "      <td>22.0</td>\n",
       "      <td>4</td>\n",
       "    </tr>\n",
       "    <tr>\n",
       "      <th>3</th>\n",
       "      <td>4</td>\n",
       "      <td>Cartagena</td>\n",
       "      <td>18.0</td>\n",
       "      <td>5</td>\n",
       "    </tr>\n",
       "    <tr>\n",
       "      <th>4</th>\n",
       "      <td>5</td>\n",
       "      <td>Cúcuta</td>\n",
       "      <td>15.0</td>\n",
       "      <td>6</td>\n",
       "    </tr>\n",
       "    <tr>\n",
       "      <th>5</th>\n",
       "      <td>6</td>\n",
       "      <td>Bucaramanga</td>\n",
       "      <td>17.0</td>\n",
       "      <td>7</td>\n",
       "    </tr>\n",
       "    <tr>\n",
       "      <th>6</th>\n",
       "      <td>7</td>\n",
       "      <td>Pereira</td>\n",
       "      <td>12.0</td>\n",
       "      <td>8</td>\n",
       "    </tr>\n",
       "    <tr>\n",
       "      <th>7</th>\n",
       "      <td>8</td>\n",
       "      <td>Santa Marta</td>\n",
       "      <td>10.0</td>\n",
       "      <td>9</td>\n",
       "    </tr>\n",
       "    <tr>\n",
       "      <th>8</th>\n",
       "      <td>9</td>\n",
       "      <td>Ibagué</td>\n",
       "      <td>11.0</td>\n",
       "      <td>10</td>\n",
       "    </tr>\n",
       "    <tr>\n",
       "      <th>9</th>\n",
       "      <td>10</td>\n",
       "      <td>Manizales</td>\n",
       "      <td>9.0</td>\n",
       "      <td>11</td>\n",
       "    </tr>\n",
       "    <tr>\n",
       "      <th>10</th>\n",
       "      <td>11</td>\n",
       "      <td>Neiva</td>\n",
       "      <td>10.0</td>\n",
       "      <td>12</td>\n",
       "    </tr>\n",
       "    <tr>\n",
       "      <th>11</th>\n",
       "      <td>12</td>\n",
       "      <td>Barranquilla</td>\n",
       "      <td>7.0</td>\n",
       "      <td>13</td>\n",
       "    </tr>\n",
       "    <tr>\n",
       "      <th>12</th>\n",
       "      <td>13</td>\n",
       "      <td>Villavicencio</td>\n",
       "      <td>8.0</td>\n",
       "      <td>14</td>\n",
       "    </tr>\n",
       "    <tr>\n",
       "      <th>13</th>\n",
       "      <td>14</td>\n",
       "      <td>Armenia</td>\n",
       "      <td>10.0</td>\n",
       "      <td>15</td>\n",
       "    </tr>\n",
       "  </tbody>\n",
       "</table>\n",
       "</div>"
      ],
      "text/plain": [
       "    ClientID City/Municipality  Demand  LocationID\n",
       "0          1            Bogotá    30.0           2\n",
       "1          2          Medellín    25.0           3\n",
       "2          3              Cali    22.0           4\n",
       "3          4         Cartagena    18.0           5\n",
       "4          5            Cúcuta    15.0           6\n",
       "5          6       Bucaramanga    17.0           7\n",
       "6          7           Pereira    12.0           8\n",
       "7          8       Santa Marta    10.0           9\n",
       "8          9            Ibagué    11.0          10\n",
       "9         10         Manizales     9.0          11\n",
       "10        11             Neiva    10.0          12\n",
       "11        12      Barranquilla     7.0          13\n",
       "12        13     Villavicencio     8.0          14\n",
       "13        14           Armenia    10.0          15"
      ]
     },
     "metadata": {},
     "output_type": "display_data"
    }
   ],
   "source": [
    "# Cargar archivos CSV\n",
    "vehicles = pd.read_csv(\"Datos\\Vehicles.csv\")\n",
    "stations = pd.read_csv(\"Datos\\stations.csv\")  # No se usa en Caso 1\n",
    "depots = pd.read_csv(\"Datos\\depots.csv\")\n",
    "clients = pd.read_csv(\"Datos\\clients.csv\")\n",
    "\n",
    "# Mostrar los datos cargados\n",
    "display(vehicles)\n",
    "display(depots)\n",
    "display(clients)\n"
   ]
  },
  {
   "cell_type": "markdown",
   "id": "ee1c3047",
   "metadata": {},
   "source": [
    "## 2. Definición de Conjuntos y Parámetros"
   ]
  },
  {
   "cell_type": "code",
   "execution_count": 9,
   "id": "0b90318b",
   "metadata": {},
   "outputs": [],
   "source": [
    "# Crear conjuntos\n",
    "V = list(vehicles[\"VehicleID\"])                          # Vehículos\n",
    "D = list(clients[\"LocationID\"])                          # Clientes\n",
    "E = list(stations[\"EstationID\"])                         # Estaciones de recarga\n",
    "P = list(depots[\"DepotID\"])                              # Depósitos\n",
    "N = P + D + E                                            # Todos los nodos\n",
    "\n",
    "# ========================\n",
    "# Parámetros por el modelo\n",
    "# ========================\n",
    "\n",
    "# Capacidad máxima por vehículo (modelo y archivo coinciden)\n",
    "M_v = dict(zip(vehicles[\"VehicleID\"], vehicles[\"Capacity\"]))\n",
    "\n",
    "# Autonomía del vehículo (modelo y archivo coinciden)\n",
    "A_v = dict(zip(vehicles[\"VehicleID\"], vehicles[\"Range\"]))\n",
    "\n",
    "# Rendimiento del vehículo (modelo lo usa, archivo NO lo incluye)\n",
    "# Se asigna manualmente un rendimiento estimado\n",
    "# Modelo: Rᵥ – Rendimiento de combustible (km/gal)\n",
    "R_v = {v: 4 for v in V}  # valor constante asumido\n",
    "\n",
    "# Límite de peso por municipio (modelo lo define, archivo NO lo incluye)\n",
    "# Modelo: Lⱼ – Límite de peso permitido en nodo j\n",
    "# Se asigna valor alto por defecto\n",
    "L_j = {j: 99999 for j in D}  # asumido por falta de datos\n",
    "\n",
    "# Demanda de cada cliente (modelo y archivo coinciden)\n",
    "demand = dict(zip(clients[\"LocationID\"], clients[\"Demand\"]))\n",
    "\n",
    "# Precio del combustible en estaciones (modelo usa FuelPrice, archivo tiene FuelCost)\n",
    "# Se mapea correctamente con el nombre correcto\n",
    "P_s = dict(zip(stations[\"EstationID\"], stations[\"FuelCost\"]))\n",
    "\n",
    "# ========================\n",
    "# Parámetros simulados para probar modelo\n",
    "# ========================\n",
    "\n",
    "from itertools import product\n",
    "dist = {(i, j): 1 if i != j else 0 for i, j in product(N, repeat=2)}  # Distancia artificial\n",
    "C_ij = dist.copy()    # Costo base por distancia\n",
    "F_t = 5000            # Tarifa por km\n",
    "C_m = 700             # Costo mantenimiento por km\n",
    "T_ij = {(i, j): 2000 for i, j in dist}   # Peaje base\n",
    "T2_ij = {(i, j): 50 for i, j in dist}    # Peaje adicional por tonelada\n",
    "E_v = {v: 10 for v in V}                 # Penalización por emisiones\n",
    "\n"
   ]
  },
  {
   "cell_type": "markdown",
   "id": "be9d816f",
   "metadata": {},
   "source": [
    "## 3. Definición del Modelo en Pyomo"
   ]
  },
  {
   "cell_type": "code",
   "execution_count": 10,
   "id": "980430f7",
   "metadata": {},
   "outputs": [],
   "source": [
    "model = pyo.ConcreteModel()\n",
    "model.N = pyo.Set(initialize=N)\n",
    "model.V = pyo.Set(initialize=V)\n",
    "model.A = pyo.Set(initialize=[(i, j) for i in N for j in N if i != j], dimen=2)\n",
    "\n",
    "model.x = pyo.Var(model.A, model.V, domain=pyo.Binary)\n",
    "model.y = pyo.Var(E, model.V, domain=pyo.Binary)\n",
    "model.q = pyo.Var(model.A, model.V, domain=pyo.NonNegativeReals)\n",
    "model.f = pyo.Var(model.A, model.V, domain=pyo.NonNegativeReals)\n",
    "model.r = pyo.Var(E, model.V, domain=pyo.NonNegativeReals)\n",
    "model.u = pyo.Var(D, model.V, domain=pyo.NonNegativeReals)\n",
    "model.comb = pyo.Var(N, model.V, domain=pyo.NonNegativeReals)\n",
    "\n"
   ]
  },
  {
   "cell_type": "markdown",
   "id": "2ae73499",
   "metadata": {},
   "source": [
    "## 3. Función Objetivo"
   ]
  },
  {
   "cell_type": "code",
   "execution_count": 11,
   "id": "221ae876",
   "metadata": {},
   "outputs": [],
   "source": [
    "model.obj = pyo.Objective(\n",
    "    expr=sum(C_ij[i,j]*model.x[i,j,v] + F_t*dist[i,j]*model.x[i,j,v] + C_m*dist[i,j]*model.x[i,j,v]\n",
    "             + T_ij[i,j]*model.x[i,j,v] + T2_ij[i,j]*model.q[i,j,v]*model.x[i,j,v] + E_v[v]*dist[i,j]*model.x[i,j,v]\n",
    "             for (i,j) in model.A for v in model.V)\n",
    "    + sum(P_s[s]*model.r[s,v] for s in E for v in model.V),\n",
    "    sense=pyo.minimize\n",
    ")\n"
   ]
  },
  {
   "cell_type": "markdown",
   "id": "753de1ee",
   "metadata": {},
   "source": [
    "## 4. Restricciones del Modelo"
   ]
  },
  {
   "cell_type": "code",
   "execution_count": 12,
   "id": "f5083ccb",
   "metadata": {},
   "outputs": [],
   "source": [
    "def flujo_conservacion(model, n, v):\n",
    "    return sum(model.x[i, n, v] for i in N if i != n) == sum(model.x[n, j, v] for j in N if j != n)\n",
    "model.flujo = pyo.Constraint(N, model.V, rule=flujo_conservacion)\n",
    "\n",
    "def restr_capacidad(model, i, j, v):\n",
    "    return model.q[i,j,v] <= M_v[v] * model.x[i,j,v]\n",
    "model.capacidad = pyo.Constraint(model.A, model.V, rule=restr_capacidad)\n",
    "\n",
    "def restr_peso(model, i, j, v):\n",
    "    if j in D:\n",
    "        return model.q[i,j,v] <= L_j[j]\n",
    "    return pyo.Constraint.Skip\n",
    "model.peso = pyo.Constraint(model.A, model.V, rule=restr_peso)\n",
    "\n",
    "def consumo_combustible(model, i, j, v):\n",
    "    return model.f[i,j,v] == (dist[i,j]/R_v[v]) * model.x[i,j,v]\n",
    "model.consumo = pyo.Constraint(model.A, model.V, rule=consumo_combustible)\n",
    "\n",
    "def continuidad_combustible(model, i, j, v):\n",
    "    return model.comb[j,v] == model.comb[i,v] - model.f[i,j,v] + (model.r[j,v] if j in E else 0)\n",
    "model.continuidad = pyo.Constraint(model.A, model.V, rule=continuidad_combustible)\n",
    "\n",
    "def recarga_estacion(model, s, v):\n",
    "    return model.r[s,v] <= 9999 * model.y[s,v]\n",
    "model.recarga = pyo.Constraint(E, model.V, rule=recarga_estacion)\n",
    "\n",
    "def visita_unica(model, j):\n",
    "    if j in D:\n",
    "        return sum(model.x[i,j,v] for i in N for v in V if i != j) == 1\n",
    "    return pyo.Constraint.Skip\n",
    "model.visita = pyo.Constraint(D, rule=visita_unica)\n",
    "\n",
    "def subtour_eliminacion(model, i, j, v):\n",
    "    if i != j and i in D and j in D:\n",
    "        return model.u[i,v] - model.u[j,v] + len(D)*model.x[i,j,v] <= len(D) - 1\n",
    "    return pyo.Constraint.Skip\n",
    "model.subtours = pyo.Constraint(model.A, model.V, rule=subtour_eliminacion)\n"
   ]
  },
  {
   "cell_type": "markdown",
   "id": "ad7c0956",
   "metadata": {},
   "source": [
    "## 5. Solución y Resultados"
   ]
  },
  {
   "cell_type": "code",
   "execution_count": null,
   "id": "3cb33d1a",
   "metadata": {},
   "outputs": [],
   "source": [
    "import pyomo.environ as pyo\n",
    "\n",
    "def solve_model(model):\n",
    "    # Crear el solver\n",
    "    solver = pyo.SolverFactory(\"highs\", solve_io=\"nl\")  # Cambia \"highs\" según tu solver instalado\n",
    "\n",
    "    # Configuraciones\n",
    "    solver.options['time_limit'] = 3600\n",
    "    solver.options['mip_rel_gap'] = 0.01\n",
    "    solver.options['presolve'] = 'on'\n",
    "\n",
    "    # Resolver\n",
    "    result = solver.solve(model, tee=True)\n",
    "\n",
    "    # Evaluar\n",
    "    if result.solver.termination_condition == pyo.TerminationCondition.optimal:\n",
    "        print(\" Solución óptima encontrada.\")\n",
    "    elif result.solver.termination_condition == pyo.TerminationCondition.maxTimeLimit:\n",
    "        print(\" Límite de tiempo alcanzado. Solución puede ser subóptima.\")\n",
    "    else:\n",
    "        print(f\" Solver finalizó con: {result.solver.termination_condition}\")\n",
    "        return result  # No continuamos si no hay solución válida\n",
    "\n",
    "    # Extraer valores de variables clave (ejemplo para x, y, u si existen en el modelo)\n",
    "    print(\"\\n Variables optimizadas:\")\n",
    "    if hasattr(model, 'x'):\n",
    "        print(\"\\n🔁 Rutas (x[i,j,v]):\")\n",
    "        for v in model.vehicles:\n",
    "            for i in model.localities:\n",
    "                for j in model.localities:\n",
    "                    if i != j and pyo.value(model.x[v, i, j]) > 0.5:\n",
    "                        print(f\"Vehículo {v}: {i} → {j}\")\n",
    "    \n",
    "    if hasattr(model, 'y'):\n",
    "        print(\"\\n Vehículos usados (y[v]):\")\n",
    "        for v in model.vehicles:\n",
    "            print(f\"Vehículo {v}: usado = {int(pyo.value(model.y[v]))}\")\n",
    "    \n",
    "    if hasattr(model, 'u'):\n",
    "        print(\"\\n Orden de visita (u[v,i]):\")\n",
    "        for v in model.vehicles:\n",
    "            for i in model.localities:\n",
    "                orden = pyo.value(model.u[v, i])\n",
    "                if orden > 0:\n",
    "                    print(f\"Vehículo {v} visita nodo {i} en posición {orden:.2f}\")\n",
    "\n",
    "    return result\n"
   ]
  }
 ],
 "metadata": {
  "kernelspec": {
   "display_name": "Python 3",
   "language": "python",
   "name": "python3"
  },
  "language_info": {
   "codemirror_mode": {
    "name": "ipython",
    "version": 3
   },
   "file_extension": ".py",
   "mimetype": "text/x-python",
   "name": "python",
   "nbconvert_exporter": "python",
   "pygments_lexer": "ipython3",
   "version": "3.13.3"
  }
 },
 "nbformat": 4,
 "nbformat_minor": 5
}
